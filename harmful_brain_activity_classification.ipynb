{
 "cells": [
  {
   "cell_type": "markdown",
   "metadata": {},
   "source": [
    "# [Kaggle] Harmful Brain Activity Classification (Competition by Harvard Medical School)\n",
    "\n",
    "This notebook is to detect and classify seizures and other types of harmful brain activity trained on electroencephalography (EEG) signals recorded from critically ill hospital patients.\n",
    "\n",
    "**Author: Han-Elliot Phan**<br>**Email: hanelliotphan@gmail.com**\n",
    "\n",
    "*Start date: January 14, 2024*<br>*End date: TBA*"
   ]
  },
  {
   "cell_type": "code",
   "execution_count": 2,
   "metadata": {},
   "outputs": [],
   "source": [
    "# ---------------------------------------------------------------------------- #\n",
    "#                              IMPORT LIBRARIES                                #\n",
    "# ---------------------------------------------------------------------------- #\n",
    "\n",
    "import numpy as np\n",
    "import pandas as pd\n",
    "import keras"
   ]
  },
  {
   "cell_type": "code",
   "execution_count": 3,
   "metadata": {},
   "outputs": [],
   "source": [
    "# ---------------------------------------------------------------------------- #\n",
    "#                              HELPER FUNCTIONS                                #\n",
    "# ---------------------------------------------------------------------------- #\n",
    "\n",
    "def read_parquet(filename):\n",
    "    \"\"\"\n",
    "    read_parquet -- Read a `.parquet` file and return a pandas.DataFrame\n",
    "    \"\"\"\n",
    "    df = pd.read_parquet(filename)\n",
    "    return df"
   ]
  }
 ],
 "metadata": {
  "kernelspec": {
   "display_name": "Python 3",
   "language": "python",
   "name": "python3"
  },
  "language_info": {
   "codemirror_mode": {
    "name": "ipython",
    "version": 3
   },
   "file_extension": ".py",
   "mimetype": "text/x-python",
   "name": "python",
   "nbconvert_exporter": "python",
   "pygments_lexer": "ipython3",
   "version": "3.9.6"
  }
 },
 "nbformat": 4,
 "nbformat_minor": 2
}
